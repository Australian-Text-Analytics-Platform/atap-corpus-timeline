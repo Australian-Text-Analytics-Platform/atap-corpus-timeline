{
 "cells": [
  {
   "cell_type": "code",
   "id": "initial_id",
   "metadata": {},
   "source": [
    "import panel as pn\n",
    "pn.extension(\"plotly\")\n",
    "\n",
    "from atap_corpus_timeline import CorpusTimeline\n",
    "from atap_corpus_loader import CorpusLoader\n",
    "\n",
    "loader = CorpusLoader(root_directory='corpus_data', include_meta_loader=True, run_logger=True)\n",
    "corpus_timeline: CorpusTimeline = CorpusTimeline(corpus_loader=loader, run_logger=True)\n",
    "corpus_timeline"
   ],
   "outputs": [],
   "execution_count": null
  }
 ],
 "metadata": {
  "kernelspec": {
   "display_name": "Python 3",
   "language": "python",
   "name": "Python 3"
  },
  "language_info": {
   "codemirror_mode": {
    "name": "ipython",
    "version": 3
   },
   "file_extension": ".py",
   "mimetype": "text/x-python",
   "name": "python",
   "nbconvert_exporter": "python",
   "pygments_lexer": "ipython3",
   "version": "3.11.9"
  }
 },
 "nbformat": 4,
 "nbformat_minor": 5
}
